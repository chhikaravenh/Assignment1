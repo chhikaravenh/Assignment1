{
 "cells": [
  {
   "cell_type": "code",
   "execution_count": 6,
   "id": "0f7f2fd2-4e91-41c7-9b85-79b77c88bb23",
   "metadata": {},
   "outputs": [
    {
     "name": "stdout",
     "output_type": "stream",
     "text": [
      "this is string [0, 1, 2, 3, 4, 5] 5.014 (20, 'arya')\n"
     ]
    }
   ],
   "source": [
    "x=\"this is string\"\n",
    "list=[0,1,2,3,4,5]\n",
    "f=float(5.014)\n",
    "t=(20,'arya')\n",
    "print(x   ,  list   ,  f   ,  t)\n"
   ]
  },
  {
   "cell_type": "code",
   "execution_count": 4,
   "id": "3ab80bb0-5c00-4edd-bf1d-5d0be223499d",
   "metadata": {},
   "outputs": [
    {
     "data": {
      "text/plain": [
       "float"
      ]
     },
     "execution_count": 4,
     "metadata": {},
     "output_type": "execute_result"
    }
   ],
   "source": [
    " var1 = ' '\n",
    " var2 = '[ DS , ML , Python]'\n",
    " var3 = [ 'DS' , 'ML' , 'Python' ]\n",
    " var4 = 1.\n",
    "\n",
    "type(var1)\n",
    "type(var2)\n",
    "type(var3)\n",
    "type(var4)"
   ]
  },
  {
   "cell_type": "code",
   "execution_count": 14,
   "id": "f813f464-7be7-484c-bf86-6f56699b81e5",
   "metadata": {},
   "outputs": [
    {
     "name": "stdout",
     "output_type": "stream",
     "text": [
      "5.0 1 3 32\n"
     ]
    }
   ],
   "source": [
    "# to divide\n",
    "a=10/2\n",
    "# to find reminder\n",
    "b=10%3\n",
    "# to find quotient\n",
    "c=15//5\n",
    "# used for exponent\n",
    "d=2**5\n",
    "\n",
    "print(a,b,c,d)"
   ]
  },
  {
   "cell_type": "code",
   "execution_count": 15,
   "id": "fca6d443-d625-4265-bbf2-051293bd004c",
   "metadata": {},
   "outputs": [
    {
     "name": "stdout",
     "output_type": "stream",
     "text": [
      "1\n",
      "2\n",
      "3\n",
      "4\n",
      "5\n",
      "6\n",
      "7\n",
      "abc\n",
      "8\n"
     ]
    }
   ],
   "source": [
    "x=[1,2,3,4,5,6,7,'abc',8]\n",
    "for i in x:\n",
    "    print(i)"
   ]
  },
  {
   "cell_type": "code",
   "execution_count": null,
   "id": "65932090-89e6-4d9b-b10c-84f7013b2833",
   "metadata": {},
   "outputs": [],
   "source": []
  },
  {
   "cell_type": "code",
   "execution_count": 8,
   "id": "5b389d69-2d03-40a9-8727-cf45084faaee",
   "metadata": {},
   "outputs": [
    {
     "name": "stdout",
     "output_type": "stream",
     "text": [
      "1 is not divisible\n",
      "2 is not divisible\n",
      "3 is divisible\n",
      "4 is not divisible\n",
      "5 is not divisible\n",
      "6 is divisible\n",
      "7 is not divisible\n",
      "8 is not divisible\n",
      "9 is divisible\n",
      "10 is not divisible\n",
      "11 is not divisible\n",
      "12 is divisible\n",
      "13 is not divisible\n",
      "14 is not divisible\n",
      "15 is divisible\n",
      "16 is not divisible\n",
      "17 is not divisible\n",
      "18 is divisible\n",
      "19 is not divisible\n",
      "20 is not divisible\n",
      "21 is divisible\n",
      "22 is not divisible\n",
      "23 is not divisible\n",
      "24 is divisible\n",
      "25 is not divisible\n"
     ]
    }
   ],
   "source": [
    "x=[1,2,3,4,5,6,7,8,9,10,11,12,13,14,15,16,17,18,19,20,21,22,23,24,25]\n",
    "for i in x:\n",
    "    if(i%3==0):\n",
    "        print(i,\"is divisible\")\n",
    "    else:\n",
    "        print(i,\"is not divisible\")"
   ]
  },
  {
   "cell_type": "code",
   "execution_count": 26,
   "id": "13b894a9-241c-4d6e-bcf5-36c353260730",
   "metadata": {},
   "outputs": [
    {
     "name": "stdin",
     "output_type": "stream",
     "text": [
      "enter a: 10\n",
      "enter b: 2\n"
     ]
    },
    {
     "name": "stdout",
     "output_type": "stream",
     "text": [
      "1\n"
     ]
    }
   ],
   "source": [
    "a=int(input(\"enter a:\"))\n",
    "b=int(input(\"enter b:\"))\n",
    "count=0\n",
    "while(a>0):\n",
    "    if(a%b==0):\n",
    "        count+=1\n",
    "    else:\n",
    "        break\n",
    "    a=a/b\n",
    "if(count>0):\n",
    "    print(count)\n",
    "else:\n",
    "    print(\"not divisible\")"
   ]
  },
  {
   "cell_type": "code",
   "execution_count": 27,
   "id": "2a83d81c-783f-494d-ac03-75a94233bef6",
   "metadata": {},
   "outputs": [
    {
     "name": "stdout",
     "output_type": "stream",
     "text": [
      "[1, 2, 3, 4]\n",
      "[1, 5, 3, 4]\n"
     ]
    }
   ],
   "source": [
    "numbers = [1, 2, 3]\n",
    "numbers.append(4)  \n",
    "print(numbers)  \n",
    "numbers[1] = 5 \n",
    "print(numbers) "
   ]
  },
  {
   "cell_type": "code",
   "execution_count": null,
   "id": "b27179bb-38a8-4943-a60d-b3bb5f931cab",
   "metadata": {},
   "outputs": [],
   "source": []
  }
 ],
 "metadata": {
  "kernelspec": {
   "display_name": "Python 3 (ipykernel)",
   "language": "python",
   "name": "python3"
  },
  "language_info": {
   "codemirror_mode": {
    "name": "ipython",
    "version": 3
   },
   "file_extension": ".py",
   "mimetype": "text/x-python",
   "name": "python",
   "nbconvert_exporter": "python",
   "pygments_lexer": "ipython3",
   "version": "3.10.8"
  },
  "toc-showtags": false
 },
 "nbformat": 4,
 "nbformat_minor": 5
}
